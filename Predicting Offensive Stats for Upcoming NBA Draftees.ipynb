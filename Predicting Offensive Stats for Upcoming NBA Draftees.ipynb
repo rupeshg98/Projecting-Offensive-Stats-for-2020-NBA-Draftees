{
 "cells": [
  {
   "cell_type": "code",
   "execution_count": 388,
   "metadata": {},
   "outputs": [
    {
     "name": "stdout",
     "output_type": "stream",
     "text": [
      "[0.00468317 0.91790227 0.38870351 0.07539912 0.01639111 0.01920102\n",
      " 0.00198098 0.00165316 0.00374654]\n",
      "156\n",
      "156\n",
      "39\n",
      "39\n"
     ]
    }
   ],
   "source": [
    "import pandas as pd\n",
    "from sklearn.preprocessing import normalize\n",
    "from sklearn.neighbors import KNeighborsRegressor\n",
    "from sklearn.model_selection import train_test_split\n",
    "from matplotlib import pyplot as plt\n",
    "\n",
    "finding_k = pd.read_csv('Preprocessed NBA Data.csv')\n",
    "data_columns = finding_k[['Position', 'Ht', 'Wt', 'College PTS', 'College TRB', 'College AST', 'College FG%', 'College 3P%', 'College FT%']].values.tolist()\n",
    "labels_columns = finding_k[['PTS', 'TRB', 'AST', 'FG%', '3PT%', 'FT%']].values.tolist()\n",
    "\n",
    "normalized_data_columns = normalize(data_columns)\n",
    "print(normalized_data_columns[0])\n",
    "normalized_labels_columns = normalize(labels_columns)\n",
    "k_training_data, k_testing_data, k_training_labels, k_testing_labels = train_test_split(normalized_data_columns, normalized_labels_columns, test_size = .2, random_state = 90)\n",
    "print(len(k_training_data))\n",
    "print(len(k_training_labels))\n",
    "print(len(k_testing_data))\n",
    "print(len(k_testing_labels))"
   ]
  },
  {
   "cell_type": "code",
   "execution_count": 389,
   "metadata": {},
   "outputs": [],
   "source": [
    "accuracies = []\n",
    "for k in range(7,10):\n",
    "    regressor = KNeighborsRegressor(n_neighbors = k)\n",
    "    regressor.fit(k_training_data, k_training_labels)\n",
    "    accuracies.append(regressor.score(k_testing_data, k_testing_labels))"
   ]
  },
  {
   "cell_type": "code",
   "execution_count": 390,
   "metadata": {},
   "outputs": [
    {
     "data": {
      "image/png": "[encoded data removed]",
      "text/plain": [
       "<Figure size 432x288 with 1 Axes>"
      ]
     },
     "metadata": {},
     "output_type": "display_data"
    }
   ],
   "source": [
    "k_list = range(7,10)\n",
    "plt.plot(k_list, accuracies)\n",
    "plt.xlabel(\"k\")\n",
    "plt.ylabel(\"Validation Accuracy\")\n",
    "plt.title(\"Determing the Best k for Model\")\n",
    "plt.show()"
   ]
  },
  {
   "cell_type": "code",
   "execution_count": 391,
   "metadata": {},
   "outputs": [
    {
     "name": "stdout",
     "output_type": "stream",
     "text": [
      "            Player     College  NBA Debut  Position   Ht   Wt  College PTS  \\\n",
      "0       Coby White         UNC       2019         1  196   83         16.1   \n",
      "1   Jarrett Culver  Texas Tech       2019         2  196   88         14.9   \n",
      "2  De'Andre Hunter         UVA       2019         3  201  102         12.4   \n",
      "3   Grant Williams   Tennessee       2019         4  201  107         15.7   \n",
      "4    Eric Paschall   Villanova       2019         4  203  115         16.5   \n",
      "\n",
      "   College TRB  College AST  College FG%  College 3P%  College FT%   PTS  TRB  \\\n",
      "0          3.5          4.1        0.423        0.353        0.800  13.2  3.5   \n",
      "1          5.6          2.8        0.459        0.341        0.687   9.2  3.4   \n",
      "2          4.4          1.6        0.509        0.419        0.773  12.3  4.5   \n",
      "3          6.5          2.1        0.516        0.291        0.758   3.5  2.7   \n",
      "4          6.1          2.1        0.447        0.348        0.746  14.0  4.6   \n",
      "\n",
      "   AST    FG%   3PT%    FT%  \n",
      "0  2.7  0.394  0.354  0.791  \n",
      "1  1.7  0.404  0.299  0.462  \n",
      "2  1.8  0.410  0.355  0.764  \n",
      "3  1.0  0.417  0.247  0.725  \n",
      "4  2.1  0.497  0.287  0.774  \n"
     ]
    }
   ],
   "source": [
    "\n",
    "df = pd.read_csv('Preprocessed NBA Data.csv')\n",
    "print(df.head())"
   ]
  },
  {
   "cell_type": "code",
   "execution_count": 392,
   "metadata": {},
   "outputs": [],
   "source": [
    "training_data = df[['Position', 'Ht', 'Wt', 'College PTS', 'College TRB', 'College AST', 'College FG%', 'College 3P%', 'College FT%']].values.tolist()\n",
    "normalized_training = normalize(training_data)\n",
    "\n",
    "training_labels = df[['PTS', 'TRB', 'AST', 'FG%', '3PT%', 'FT%']].values.tolist()"
   ]
  },
  {
   "cell_type": "code",
   "execution_count": 393,
   "metadata": {},
   "outputs": [],
   "source": [
    "df2 = pd.read_csv('Test Data.csv')\n",
    "test_data = df2[['Position', 'Height', 'Wt', 'College PTS', 'College TRB', 'College AST', 'College FG%', 'College 3P%', 'College FT%']].values.tolist()\n",
    "normalized_test = normalize(test_data)"
   ]
  },
  {
   "cell_type": "code",
   "execution_count": 397,
   "metadata": {},
   "outputs": [
    {
     "data": {
      "text/plain": [
       "KNeighborsRegressor(algorithm='auto', leaf_size=30, metric='minkowski',\n",
       "          metric_params=None, n_jobs=1, n_neighbors=8, p=2,\n",
       "          weights='distance')"
      ]
     },
     "execution_count": 397,
     "metadata": {},
     "output_type": "execute_result"
    }
   ],
   "source": [
    "regressor2 = KNeighborsRegressor(n_neighbors = 8, weights = 'distance')\n",
    "regressor2.fit(normalized_training, training_labels)"
   ]
  },
  {
   "cell_type": "code",
   "execution_count": 398,
   "metadata": {},
   "outputs": [],
   "source": [
    "prediction = regressor2.predict(normalized_test)"
   ]
  },
  {
   "cell_type": "code",
   "execution_count": 399,
   "metadata": {},
   "outputs": [
    {
     "name": "stdout",
     "output_type": "stream",
     "text": [
      "[[ 9.70525409  3.47995103  2.27187716  0.44092529  0.2860587   0.76453284]\n",
      " [ 9.56544942  4.051522    1.17592907  0.44290923  0.35272103  0.75419967]\n",
      " [11.41522094  5.83876779  1.23212744  0.49367554  0.27795114  0.73538769]\n",
      " [ 9.02829299  2.591208    2.96943598  0.42594576  0.33059192  0.77848968]\n",
      " [ 7.77290366  4.88921801  0.85864756  0.44777522  0.20122478  0.69751229]\n",
      " [ 8.77419894  4.2764327   1.372532    0.43092013  0.2858924   0.70711294]\n",
      " [ 6.76824324  4.20857669  0.84019687  0.43024738  0.2074553   0.71110977]\n",
      " [13.52646195  3.52365621  4.64164167  0.4067572   0.32885773  0.76245558]\n",
      " [ 8.90397841  5.17517393  0.80475459  0.53050411  0.24657339  0.70302148]\n",
      " [13.14123241  6.60667427  1.50796248  0.48819098  0.21216579  0.68383288]]\n"
     ]
    }
   ],
   "source": [
    "print(prediction)"
   ]
  },
  {
   "cell_type": "code",
   "execution_count": null,
   "metadata": {},
   "outputs": [],
   "source": []
  },
  {
   "cell_type": "code",
   "execution_count": null,
   "metadata": {},
   "outputs": [],
   "source": []
  }
 ],
 "metadata": {
  "kernelspec": {
   "display_name": "Python 3",
   "language": "python",
   "name": "python3"
  },
  "language_info": {
   "codemirror_mode": {
    "name": "ipython",
    "version": 3
   },
   "file_extension": ".py",
   "mimetype": "text/x-python",
   "name": "python",
   "nbconvert_exporter": "python",
   "pygments_lexer": "ipython3",
   "version": "3.6.5"
  }
 },
 "nbformat": 4,
 "nbformat_minor": 2
}
